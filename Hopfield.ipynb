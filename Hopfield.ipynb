{
  "nbformat": 4,
  "nbformat_minor": 0,
  "metadata": {
    "colab": {
      "name": "Hopfield.ipynb",
      "provenance": [],
      "collapsed_sections": [],
      "authorship_tag": "ABX9TyMNdV4SYV5zj1Crpl0I/xoG",
      "include_colab_link": true
    },
    "kernelspec": {
      "name": "python3",
      "display_name": "Python 3"
    }
  },
  "cells": [
    {
      "cell_type": "markdown",
      "metadata": {
        "id": "view-in-github",
        "colab_type": "text"
      },
      "source": [
        "<a href=\"https://colab.research.google.com/github/alirexafxali/HopfieldNN/blob/main/Hopfield.ipynb\" target=\"_parent\"><img src=\"https://colab.research.google.com/assets/colab-badge.svg\" alt=\"Open In Colab\"/></a>"
      ]
    },
    {
      "cell_type": "markdown",
      "metadata": {
        "id": "q3p22kRcNLDu"
      },
      "source": [
        "1- Packages"
      ]
    },
    {
      "cell_type": "code",
      "metadata": {
        "id": "buOnoVRptBeE"
      },
      "source": [
        "import numpy as np\n",
        "import matplotlib.pyplot as plt"
      ],
      "execution_count": null,
      "outputs": []
    },
    {
      "cell_type": "markdown",
      "metadata": {
        "id": "YCHTYIF5NNe4"
      },
      "source": [
        "2- Patterns and Neurons\n",
        "\n"
      ]
    },
    {
      "cell_type": "code",
      "metadata": {
        "id": "nTmYL--um7YL"
      },
      "source": [
        "N = 25\n",
        "\n",
        "p1 = np.array([[1,1,1,1,1],\n",
        "              [1,-1,-1,-1,1],\n",
        "              [1,-1,1,-1,1],\n",
        "              [1,-1,-1,-1,1],\n",
        "              [1,1,1,1,1]])\n",
        "\n",
        "p2 = np.array([[1,1,1,1,1],\n",
        "              [1,1,1,1,1],\n",
        "              [-1,-1,-1,-1,-1],\n",
        "              [1,1,1,1,1],\n",
        "              [1,1,1,1,1]])\n",
        "p3 = p2.T\n",
        "\n",
        "p_noisy = np.array([[-1,1,1,1,-1],\n",
        "              [1,1,-1,1,1],\n",
        "              [1,1,-1,-1,1],\n",
        "              [1,1,-1,1,1],\n",
        "              [1,1,-1,1,-1]])"
      ],
      "execution_count": null,
      "outputs": []
    },
    {
      "cell_type": "markdown",
      "metadata": {
        "id": "3WXbBnpVNPan"
      },
      "source": [
        "3- Patterns plot"
      ]
    },
    {
      "cell_type": "code",
      "metadata": {
        "colab": {
          "base_uri": "https://localhost:8080/",
          "height": 151
        },
        "id": "I0yCNc2L0GEt",
        "outputId": "8a905b9b-ba20-469d-e753-d3a1adac1f09"
      },
      "source": [
        "fig = plt.figure(figsize = (5, 5))\n",
        "fig.subplots_adjust(hspace=0.1, wspace=0.1)\n",
        "\n",
        "plt.subplot(3, 3,1)\n",
        "plt.imshow(np.where((p_noisy)<1, 0, 1), cmap='gray')"
      ],
      "execution_count": null,
      "outputs": [
        {
          "output_type": "execute_result",
          "data": {
            "text/plain": [
              "<matplotlib.image.AxesImage at 0x7f1b843a3198>"
            ]
          },
          "metadata": {
            "tags": []
          },
          "execution_count": 16
        },
        {
          "output_type": "display_data",
          "data": {
            "image/png": "[encoded data removed]",
            "text/plain": [
              "<Figure size 360x360 with 1 Axes>"
            ]
          },
          "metadata": {
            "tags": [],
            "needs_background": "light"
          }
        }
      ]
    },
    {
      "cell_type": "markdown",
      "metadata": {
        "id": "Ao3IYr_cNkaH"
      },
      "source": [
        "4- Weight matrix"
      ]
    },
    {
      "cell_type": "code",
      "metadata": {
        "id": "jRw6Zse20ndN"
      },
      "source": [
        "W = np.zeros((5, 5))\n",
        "\n",
        "for i in range(0, 5):\n",
        "  for j in range(0, 5):\n",
        "    if i == j:\n",
        "      W[i, j] = 0\n",
        "    else:\n",
        "      W[i, j] = 1/N * np.sum(((p1.flatten()[i] * p1.flatten()[j]), (p2.flatten()[i] * p2.flatten()[j]), (p3.flatten()[i] * p3.flatten()[j])))\n"
      ],
      "execution_count": null,
      "outputs": []
    },
    {
      "cell_type": "code",
      "metadata": {
        "colab": {
          "base_uri": "https://localhost:8080/"
        },
        "id": "7JK7dwhTNGKV",
        "outputId": "fa5226a6-91d5-43c3-8c96-937f023e5203"
      },
      "source": [
        "print(W)"
      ],
      "execution_count": null,
      "outputs": [
        {
          "output_type": "stream",
          "text": [
            "[[0.   0.12 0.04 0.12 0.12]\n",
            " [0.12 0.   0.04 0.12 0.12]\n",
            " [0.04 0.04 0.   0.04 0.04]\n",
            " [0.12 0.12 0.04 0.   0.12]\n",
            " [0.12 0.12 0.04 0.12 0.  ]]\n"
          ],
          "name": "stdout"
        }
      ]
    },
    {
      "cell_type": "code",
      "metadata": {
        "id": "xlc14O-hQztz"
      },
      "source": [
        "def match(p_test1, p_k):  \n",
        "  m_k = (1/N) * np.sum(np.multiply(p_test1,p_k.flatten()), axis=0)\n",
        "  return m_k\n"
      ],
      "execution_count": null,
      "outputs": []
    },
    {
      "cell_type": "code",
      "metadata": {
        "colab": {
          "base_uri": "https://localhost:8080/"
        },
        "id": "vCm1cpytLmQq",
        "outputId": "f4e17ee2-bfc8-4a0b-d431-bad72af803c7"
      },
      "source": [
        "#asyncCorrection\n",
        "p_test = p_noisy.flatten()\n",
        "\n",
        "\n",
        "for iteration in range (0, 15):\n",
        "  for j in range(0, 25):\n",
        "    m_1 = match(p_test, p1)\n",
        "    m_2 = match(p_test, p2)\n",
        "    m_3 = match(p_test, p3)\n",
        "\n",
        "    p_test[j] = np.sign((m_1 *p1.flatten()[j]) + (m_2 *p2.flatten()[j]) + (m_3 *p3.flatten()[j]))\n",
        "\n",
        "output1 = p_test.reshape(5,5)\n",
        "print(output1)\n",
        "\n"
      ],
      "execution_count": null,
      "outputs": [
        {
          "output_type": "stream",
          "text": [
            "[[ 1  1 -1  1  1]\n",
            " [ 1  1 -1  1  1]\n",
            " [ 1  1 -1  1  1]\n",
            " [ 1  1 -1  1  1]\n",
            " [ 1  1 -1  1  1]]\n"
          ],
          "name": "stdout"
        }
      ]
    },
    {
      "cell_type": "code",
      "metadata": {
        "colab": {
          "base_uri": "https://localhost:8080/",
          "height": 151
        },
        "id": "u84_N0_9kRB-",
        "outputId": "82b6465e-e52a-47a7-b102-f0dad8d662b7"
      },
      "source": [
        "\n",
        "fig = plt.figure(figsize = (5, 5))\n",
        "fig.subplots_adjust(hspace=0.1, wspace=0.1)\n",
        "\n",
        "plt.subplot(3, 3,1)\n",
        "plt.imshow(np.where((output1)<1, 0, 1), cmap='gray')"
      ],
      "execution_count": null,
      "outputs": [
        {
          "output_type": "execute_result",
          "data": {
            "text/plain": [
              "<matplotlib.image.AxesImage at 0x7f1b8436b400>"
            ]
          },
          "metadata": {
            "tags": []
          },
          "execution_count": 21
        },
        {
          "output_type": "display_data",
          "data": {
            "image/png": "[encoded data removed]",
            "text/plain": [
              "<Figure size 360x360 with 1 Axes>"
            ]
          },
          "metadata": {
            "tags": [],
            "needs_background": "light"
          }
        }
      ]
    },
    {
      "cell_type": "code",
      "metadata": {
        "colab": {
          "base_uri": "https://localhost:8080/"
        },
        "id": "eHf5_5ucPDcX",
        "outputId": "f1e7f5c5-d7bc-4094-8bdb-fafb1b217263"
      },
      "source": [
        "#syncCorrection\n",
        "ps_test = p1.flatten()\n",
        "for iteration2 in range (0, 15):\n",
        "  m_1_s = match(ps_test, p1)\n",
        "  m_2_s = match(ps_test, p2)\n",
        "  m_3_s = match(ps_test, p3)\n",
        "\n",
        "  p_test_s = np.sign((m_1_s *p1 + m_2_s *p2+ m_3_s *p3))\n",
        "\n",
        "output2 = ps_test.reshape(5,5)\n",
        "print(output2)"
      ],
      "execution_count": null,
      "outputs": [
        {
          "output_type": "stream",
          "text": [
            "[[ 1  1  1  1  1]\n",
            " [ 1 -1 -1 -1  1]\n",
            " [ 1 -1  1 -1  1]\n",
            " [ 1 -1 -1 -1  1]\n",
            " [ 1  1  1  1  1]]\n"
          ],
          "name": "stdout"
        }
      ]
    },
    {
      "cell_type": "code",
      "metadata": {
        "colab": {
          "base_uri": "https://localhost:8080/",
          "height": 151
        },
        "id": "QaN23lLckZ4G",
        "outputId": "49ce7553-6898-4bc9-f0e5-04387e91f223"
      },
      "source": [
        "fig = plt.figure(figsize = (5, 5))\n",
        "fig.subplots_adjust(hspace=0.1, wspace=0.1)\n",
        "\n",
        "plt.subplot(3, 3,1)\n",
        "plt.imshow(np.where((output2)<1, 0, 1), cmap='gray')"
      ],
      "execution_count": null,
      "outputs": [
        {
          "output_type": "execute_result",
          "data": {
            "text/plain": [
              "<matplotlib.image.AxesImage at 0x7f1b8434b978>"
            ]
          },
          "metadata": {
            "tags": []
          },
          "execution_count": 23
        },
        {
          "output_type": "display_data",
          "data": {
            "image/png": "[encoded data removed]",
            "text/plain": [
              "<Figure size 360x360 with 1 Axes>"
            ]
          },
          "metadata": {
            "tags": [],
            "needs_background": "light"
          }
        }
      ]
    },
    {
      "cell_type": "code",
      "metadata": {
        "id": "yarzDOaIfRgK"
      },
      "source": [
        ""
      ],
      "execution_count": null,
      "outputs": []
    }
  ]
}